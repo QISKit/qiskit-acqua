{
 "cells": [
  {
   "cell_type": "markdown",
   "metadata": {
    "slideshow": {
     "slide_type": "slide"
    }
   },
   "source": [
    "# Aqua 0.7 Operator Refactor\n",
    "_5-Dec-19, donny@, ..._"
   ]
  },
  {
   "cell_type": "markdown",
   "metadata": {
    "slideshow": {
     "slide_type": "slide"
    }
   },
   "source": [
    "## Purpose\n",
    "To improve the transparency and ease of understanding of Qiskit’s operator logic and algorithmic usage. Specifically, to reconcile with the Terra operator hierarchy and make the ExpectationValue and Evolution algorithms more visible, explicit, and extensible."
   ]
  },
  {
   "cell_type": "markdown",
   "metadata": {
    "slideshow": {
     "slide_type": "slide"
    }
   },
   "source": [
    "## Present State (Aqua 6.1) and Opportunities\n",
    "The representation of exponential matrices sparsely as linear combinations of Pauli operators is critical in many quantum algorithms. As such, the Operator classes are the workhorses of Aqua, containing both the expectation value and evolution logic used by most of the algorithms in Aqua.\n",
    "\n",
    "However, there are several opportunities for improvement:\n",
    "* **Operator Algorithms**\n",
    "    * **Ease of understanding** - The \"Operator algorithm\" logic - the ExpectationValue, Evolution, grouping, and symmetry analysis - is spread across the 3000-line operator hierarchy, and is very branchy for different modes of execution\n",
    "    * **Ease of extension** - Modification to the expectation value, evolution, grouping, and symmetry logic is a core use case (e.g. the [CVaR expectation](https://arxiv.org/abs/1907.04769), [linar combination evolution](https://arxiv.org/abs/1202.5822), or the many recent papers on [pauli grouping](https://www.nature.com/articles/nature23879)).\n",
    "* **WeightedPauli General (Non-Aqua) Usage**\n",
    "    * The WeightedPauli operator logic is broadly useful, and can be moved into Terra for usage beyond Aqua.\n",
    "    * WeightedPauli's ExpectationValue may be better placed in Ignis.\n",
    "* **Remote Operator Algorithms** - Aer's fast ExpectationValue is not transparently or cleanly interchangeable with Aqua's local ExpectationValue today. The concept of an Algorithm not provided by Aqua is not yet defined to support this type of interchangeability cleanly."
   ]
  },
  {
   "cell_type": "markdown",
   "metadata": {
    "slideshow": {
     "slide_type": "slide"
    }
   },
   "source": [
    "### Operator Algorithms Ease of Use\n",
    "\n",
    "#### Vanilla Expectation Example\n",
    "\n",
    "Aqua's ExpectationValue is not contained within a single function or module, but rather split into several functions without a clear interface or flow for user usage. This is due to structural constraints in Aqua which are no longer present, where the algorithm requiring the expectation value held the backend object and could run circuits, but the operator could not. Presently, the code to take an expectation value in VQE is too long to paste here, but we encourage the reader to scan lines [361-395 of Aqua 6.1 VQE’s](https://github.com/Qiskit/qiskit-aqua/blob/stable/qiskit/aqua/algorithms/adaptive/vqe/vqe.py#L361) ExpectationValue calculation to try to understand where and how the expectation is computed. We’ve been asked by numerous Aqua users to explain how this code works, and most do not attempt to use it on their own.\n",
    "\n",
    "The following is the shortest possible way to write an expectation value in Aqua. Note that it fundamentally requires the user to understand a certain execution flow, the correct functions to use to do this, and how those functions work with their execute mode. This takes a few hours to understand at least, often days. Further, there are no hints that tomography is being performed here, or matrix multiplication if the system chooses to do that instead."
   ]
  },
  {
   "cell_type": "code",
   "execution_count": 1,
   "metadata": {
    "ExecuteTime": {
     "end_time": "2019-12-26T20:03:00.261590Z",
     "start_time": "2019-12-26T20:02:56.039486Z"
    },
    "slideshow": {
     "slide_type": "skip"
    }
   },
   "outputs": [],
   "source": [
    "from qiskit.aqua.operators import WeightedPauliOperator\n",
    "from qiskit.aqua.components.variational_forms import RY\n",
    "from qiskit.quantum_info import Pauli\n",
    "from qiskit import BasicAer, execute, QuantumCircuit\n",
    "from qiskit.circuit import Parameter\n",
    "qasm_sim = BasicAer.get_backend('qasm_simulator')"
   ]
  },
  {
   "cell_type": "code",
   "execution_count": 2,
   "metadata": {
    "ExecuteTime": {
     "end_time": "2019-12-26T20:03:09.762509Z",
     "start_time": "2019-12-26T20:03:09.452240Z"
    }
   },
   "outputs": [
    {
     "data": {
      "text/plain": [
       "(0.5+0.005078125j)"
      ]
     },
     "execution_count": 2,
     "metadata": {},
     "output_type": "execute_result"
    }
   ],
   "source": [
    "op = WeightedPauliOperator([\n",
    "    [.5, Pauli.from_label('IX')],\n",
    "    [.2j, Pauli.from_label('ZY')],\n",
    "])\n",
    "circuit = QuantumCircuit(2)\n",
    "circuit.h([0,1])\n",
    "\n",
    "evaluation_circuits = op.construct_evaluation_circuit(wave_function=circuit, statevector_mode=False)\n",
    "result = execute(evaluation_circuits, qasm_sim).result()\n",
    "expect, std = op.evaluate_with_result(result=result, statevector_mode=False)\n",
    "expect"
   ]
  },
  {
   "cell_type": "markdown",
   "metadata": {
    "slideshow": {
     "slide_type": "slide"
    }
   },
   "source": [
    "#### Vanilla Evolution Example\n",
    "\n",
    "Evolution is somewhat more succinct, but "
   ]
  },
  {
   "cell_type": "code",
   "execution_count": 4,
   "metadata": {
    "ExecuteTime": {
     "end_time": "2019-12-26T20:03:22.783242Z",
     "start_time": "2019-12-26T20:03:22.780397Z"
    },
    "slideshow": {
     "slide_type": "skip"
    }
   },
   "outputs": [],
   "source": [
    "from qiskit.circuit import Parameter"
   ]
  },
  {
   "cell_type": "code",
   "execution_count": 5,
   "metadata": {
    "ExecuteTime": {
     "end_time": "2019-12-26T20:03:23.794305Z",
     "start_time": "2019-12-26T20:03:23.775959Z"
    }
   },
   "outputs": [
    {
     "name": "stdout",
     "output_type": "stream",
     "text": [
      "        ┌─────────────────┐\n",
      "q_0: |0>┤0                ├\n",
      "        │  Evolution^1(θ) │\n",
      "q_1: |0>┤1                ├\n",
      "        └─────────────────┘\n",
      "Decomposed:\n"
     ]
    },
    {
     "data": {
      "text/html": [
       "<pre style=\"word-wrap: normal;white-space: pre;background: #fff0;line-height: 1.1;font-family: &quot;Courier New&quot;,Courier,monospace\">        ┌─────────────────────┐                       ┌──────────────────────┐┌──────────┐┌───────────┐┌──────────┐\n",
       "q_0: |0>┤ U3(pi/2,-pi/2,pi/2) ├──■─────────────────■──┤ U3(-pi/2,-pi/2,pi/2) ├┤ U2(0,pi) ├┤ U1(1.0*θ) ├┤ U2(0,pi) ├\n",
       "        └─────────────────────┘┌─┴─┐┌───────────┐┌─┴─┐└──────────────────────┘└──────────┘└───────────┘└──────────┘\n",
       "q_1: |0>───────────────────────┤ X ├┤ U1(0.4*θ) ├┤ X ├─────────────────────────────────────────────────────────────\n",
       "                               └───┘└───────────┘└───┘                                                             </pre>"
      ],
      "text/plain": [
       "<qiskit.visualization.text.TextDrawing at 0x1041ae210>"
      ]
     },
     "execution_count": 5,
     "metadata": {},
     "output_type": "execute_result"
    }
   ],
   "source": [
    "op = WeightedPauliOperator([\n",
    "    [.5, Pauli.from_label('IX')],\n",
    "    [.2, Pauli.from_label('ZY')],\n",
    "])\n",
    "circuit = QuantumCircuit(2)\n",
    "\n",
    "θ = Parameter('θ')\n",
    "instr = op.evolve_instruction(evo_time=θ)\n",
    "circuit.append(instr, [0,1])\n",
    "print(circuit.draw(fold=4000))\n",
    "print('Decomposed:')\n",
    "circuit.decompose().draw(fold=4000)"
   ]
  },
  {
   "cell_type": "markdown",
   "metadata": {},
   "source": [
    "#### Tasks Not Possible Today\n",
    "\n",
    "* Explicitly using Aer's ExpectationValue, or explicitly disabling it\n",
    "* Modifying the ExpectationValue, Evolution, grouping, or symmetry code without copying a significant amount of code"
   ]
  },
  {
   "cell_type": "markdown",
   "metadata": {
    "slideshow": {
     "slide_type": "slide"
    }
   },
   "source": [
    "### WeightedPauliOperator Not Available in Terra\n",
    "\n",
    "Terra contains operator utilities in the `qiskit.quantum_info.operators` directory, focused primarily on the mathematical operations between matrix-represented operators of various types (e.g. Choi, Pauli, etc.). Terra's operators do not contain much of the Pauli-basis logic in Aqua today, and are not interoptable with Aqua's operator algorithms. As such, these utilities are only accessible to Aqua users."
   ]
  },
  {
   "cell_type": "markdown",
   "metadata": {
    "slideshow": {
     "slide_type": "slide"
    }
   },
   "source": [
    "### Ignis and Aer Logic Living in Aqua\n",
    "\n",
    "* Aqua's ExpectationValue relies on a form of tomography, which in principle should live within Ignis's tomography utilities.\n",
    "* Aer's ExpectationValue is a super-superuser feature today\n",
    "    * The interface (and existence) of the Aer-provided algorithm is not made obvious because there is no way to specify a non-Aqua-provided algorithm in Qiskit\n",
    "    * In Aqua, there is no simple way to specify which ExpectationValue algorithm the user wants. \n",
    "    * Aer's ExpectationValue is woven throughout the core operator code in a way that is branchy, inexorable, and difficult for users to understand and control."
   ]
  },
  {
   "cell_type": "markdown",
   "metadata": {
    "slideshow": {
     "slide_type": "slide"
    }
   },
   "source": [
    "## Core Requirements / Interface\n",
    "\n",
    "1. Broadly Available (Qiskit-wide) WeightedPauli Logic\n",
    "    1. Basic Construction and Usage\n",
    "    1. Interface, Variants, Organization\n",
    "        1. Option A: WeightedPauli class in Terra\n",
    "        1. Option B: WeightedUnitary class in Terra\n",
    "    1. Integration Testing\n",
    "1. ExpectationValue and Evolution algorithm hierarchies\n",
    "    1. Interface, Variants, Organization\n",
    "        1. Usage of Operator Abstractions within Aqua Algorithms\n",
    "        1. Usage of Operator Abstractions without Aqua Algorithms\n",
    "    1. ExpectationValue Reconciliation with Ignis tomography\n",
    "        1. Option A: Leave ExpectationValue in Aqua\n",
    "        1. Option B: Keep ExpectationValue algo in Aqua, move logic into Ignis\n",
    "        1. Option C: Move ExpectationValue algo into Ignis\n",
    "1. Aer ExpectationValue and Evolution\n",
    "    1. Option I: Leave AerExpectation in Aqua\n",
    "    1. Option II: Central Qiskit Algorithms base classes\n",
    "    1. Option III: Merge Aqua and Terra\n",
    "1. Smooth Borders with Applications Primitives - e.g. FermionicOperator\n",
    "    1. Move Operator Translation Into Application Stacks, Consistently"
   ]
  },
  {
   "cell_type": "markdown",
   "metadata": {
    "slideshow": {
     "slide_type": "slide"
    }
   },
   "source": [
    "### Broadly Available (Qiskit-wide) WeightedPauli Logic\n",
    "\n",
    "A **WeightedPauliOperator** is an n-qubit operator represented sparesely as a complex combination of n-qubit Pauli operators (tensor products of n single-qubit Paulis). All hermitian operators can be represented in this basis.\n",
    "\n",
    "Many quantum algorithms depend on this sparse representation of operators in the Pauli basis. Terra contains a suite of Matrix-represented operators within the quantum_info module, including rich logic for combining and manipulating various operator types, but does not include a WeightedPauli operator. \n",
    "* The Aqua operator does not need to replicate Terra's logic within MatrixOperator, and should instead rely on Terra for Matrix-based operator logic. \n",
    "* Aqua is the not the only place in Qiskit which requires WeightedPauli Operators. These are used across quantum information, and should be interoptable with the other existing Terra operators.\n",
    "\n",
    "**Requirement:** The mathematical (non-algorithmic) Operator logic in Aqua should be moved into Terra, and Aqua should use these as its core operator objects."
   ]
  },
  {
   "cell_type": "code",
   "execution_count": null,
   "metadata": {
    "ExecuteTime": {
     "end_time": "2019-12-05T22:49:32.350549Z",
     "start_time": "2019-12-05T22:49:32.209022Z"
    }
   },
   "outputs": [],
   "source": [
    "from qiskit.quantum_info.operators import WeightedPauliOperator"
   ]
  },
  {
   "cell_type": "markdown",
   "metadata": {
    "slideshow": {
     "slide_type": "slide"
    }
   },
   "source": [
    "#### Basic Construction and Usage\n",
    "\n",
    "Today, Aqua supports two modes for construction of a WeightedPauli operator:"
   ]
  },
  {
   "cell_type": "code",
   "execution_count": 6,
   "metadata": {
    "ExecuteTime": {
     "end_time": "2019-12-26T20:47:54.131810Z",
     "start_time": "2019-12-26T20:47:54.128655Z"
    }
   },
   "outputs": [],
   "source": [
    "op = WeightedPauliOperator([\n",
    "    [.5, Pauli.from_label('IX')],\n",
    "    [.2, Pauli.from_label('ZY')],\n",
    "])"
   ]
  },
  {
   "cell_type": "code",
   "execution_count": 7,
   "metadata": {
    "ExecuteTime": {
     "end_time": "2019-12-26T20:49:14.474547Z",
     "start_time": "2019-12-26T20:49:14.471119Z"
    }
   },
   "outputs": [],
   "source": [
    "op = WeightedPauliOperator.from_list(\n",
    "    paulis=[Pauli.from_label('IX'),\n",
    "            Pauli.from_label('ZY')],\n",
    "    weights=[.5, .2])"
   ]
  },
  {
   "cell_type": "markdown",
   "metadata": {
    "slideshow": {
     "slide_type": "slide"
    }
   },
   "source": [
    "The above code lacks the mathematical structure or power of typical operator expressions. As such, Qiskit should support the following:\n",
    "##### Mathematical Construction"
   ]
  },
  {
   "cell_type": "code",
   "execution_count": 2,
   "metadata": {
    "ExecuteTime": {
     "end_time": "2019-12-26T21:18:57.848214Z",
     "start_time": "2019-12-26T21:18:54.063013Z"
    }
   },
   "outputs": [],
   "source": [
    "from qiskit.quantum_info.operators.pauli import X, Y, Z, I\n",
    "from qiskit.quantum_info.operators.projectors import zero, one, plus, minus"
   ]
  },
  {
   "cell_type": "markdown",
   "metadata": {},
   "source": [
    "##### From Circuit Operator Construction"
   ]
  },
  {
   "cell_type": "code",
   "execution_count": null,
   "metadata": {},
   "outputs": [],
   "source": [
    "circ"
   ]
  },
  {
   "cell_type": "markdown",
   "metadata": {
    "slideshow": {
     "slide_type": "slide"
    }
   },
   "source": [
    "#### Grouping"
   ]
  },
  {
   "cell_type": "code",
   "execution_count": null,
   "metadata": {},
   "outputs": [],
   "source": []
  },
  {
   "cell_type": "markdown",
   "metadata": {
    "slideshow": {
     "slide_type": "slide"
    }
   },
   "source": [
    "#### Integration Testing"
   ]
  },
  {
   "cell_type": "markdown",
   "metadata": {
    "slideshow": {
     "slide_type": "slide"
    }
   },
   "source": [
    "### Breaking out the ExpectationValue and Evolution to be explicit modules which can be interchanged and extended.\n",
    "\n",
    "Users want to easily find and understand ExpectationValue and Evolution logic, and understand the algorithmic variations available to them.\n",
    "\n",
    "..."
   ]
  },
  {
   "cell_type": "code",
   "execution_count": null,
   "metadata": {},
   "outputs": [],
   "source": [
    "from qiskit.aqua.algorithms import ExpectationValue, Evolution\n",
    "\n",
    "avg = ExpectationValue(operator, backend).run(circuit)\n",
    "instr = Evolution(operator, backend).instruction(param)"
   ]
  },
  {
   "cell_type": "markdown",
   "metadata": {
    "slideshow": {
     "slide_type": "slide"
    }
   },
   "source": [
    "### Terse and transparent Operator usage within the Aqua algorithms, characteristic of end-user usage of the same algorithms.\n",
    "\n",
    "..."
   ]
  },
  {
   "cell_type": "code",
   "execution_count": null,
   "metadata": {},
   "outputs": [],
   "source": [
    "class VQE(QuantumAlgorithm):\n",
    "    def __init__(self, operator, var_form, optimizer,\n",
    "                 initial_point=None, backend=backend, callback=None, ...):\n",
    "        ...\n",
    "        self._expectation_value = ExpectationValue(self._operator, self._backend)\n",
    "    \n",
    "    def _energy_evaluation(self, params):\n",
    "        circuits = self._var_form.construct_circuit(params)\n",
    "        energy, stdev = self._expectation_value.run(circuits)\n",
    "        return energy"
   ]
  },
  {
   "cell_type": "markdown",
   "metadata": {
    "slideshow": {
     "slide_type": "slide"
    }
   },
   "source": [
    "### Explicit modules for Aer's ExpectationValue and Evolution which can be swapped for Aqua's, and a framework for remote backends to provide RemoteAlgorithm modules without depending on Aqua. \n",
    "\n",
    "..."
   ]
  },
  {
   "cell_type": "code",
   "execution_count": null,
   "metadata": {},
   "outputs": [],
   "source": [
    "from qiskit.providers.aer import AerExpectationValue\n",
    "\n",
    "my_vqe = VQE()"
   ]
  },
  {
   "cell_type": "markdown",
   "metadata": {
    "slideshow": {
     "slide_type": "slide"
    }
   },
   "source": [
    "### Reconciling the implicit tomography in Aqua's expectation value with Ignis's tomography functionality to avoid code duplication and allow generic access to the functionality.\n",
    "\n",
    "..."
   ]
  },
  {
   "cell_type": "code",
   "execution_count": null,
   "metadata": {},
   "outputs": [],
   "source": []
  },
  {
   "cell_type": "markdown",
   "metadata": {
    "slideshow": {
     "slide_type": "slide"
    }
   },
   "source": [
    "### Clear and smooth borders with the Operator-related objects in Aqua, such as the FermionicOperator and Hamiltonian in Chemistry, and the proposed LadderOperator and OptimizationProblem.\n",
    "\n",
    "..."
   ]
  },
  {
   "cell_type": "code",
   "execution_count": null,
   "metadata": {},
   "outputs": [],
   "source": []
  },
  {
   "cell_type": "markdown",
   "metadata": {
    "slideshow": {
     "slide_type": "slide"
    }
   },
   "source": [
    "## Technical Design\n",
    "\n",
    "* Changes to Terra Operator Hierarchy\n",
    "* Aqua Algorithm Hierarchy\n",
    "    * Groups and Symmetries Options\n",
    "* Changes to Ignis\n",
    "* Qiskit Remote Algorithms\n",
    "* Aer ExpectationValue and Evolution\n",
    "* IBMQ or other backend RemoteAlgorithms"
   ]
  },
  {
   "cell_type": "markdown",
   "metadata": {
    "slideshow": {
     "slide_type": "slide"
    }
   },
   "source": [
    "### Changes to Terra Operator Hierarchy\n",
    "\n",
    "There are two options for the migration of the Operator mathematical logic into Terra's quantum_info:\n",
    "\n",
    "#### Option A: Move WeightedPauliOperator into quantum_info and refactor\n",
    "\n",
    "...\n",
    "\n",
    "#### Option B: Add Linear Combination functionality to Operator to allow for WeightedPauli, WeightedClifford, and Combinations\n",
    "\n",
    "* e.g. Pauli a + Pauli b = LinComb(a, b)\n",
    "* Circuit Operator?\n",
    "\n",
    "..."
   ]
  },
  {
   "cell_type": "markdown",
   "metadata": {
    "slideshow": {
     "slide_type": "slide"
    }
   },
   "source": [
    "..."
   ]
  },
  {
   "cell_type": "markdown",
   "metadata": {
    "slideshow": {
     "slide_type": "slide"
    }
   },
   "source": [
    "## Timeline and Gameplan\n",
    "\n",
    "..."
   ]
  },
  {
   "cell_type": "markdown",
   "metadata": {},
   "source": [
    "## Future Extension Opportunities"
   ]
  },
  {
   "cell_type": "code",
   "execution_count": null,
   "metadata": {},
   "outputs": [],
   "source": []
  }
 ],
 "metadata": {
  "celltoolbar": "Slideshow",
  "kernelspec": {
   "display_name": "code",
   "language": "python",
   "name": "code"
  },
  "language_info": {
   "codemirror_mode": {
    "name": "ipython",
    "version": 3
   },
   "file_extension": ".py",
   "mimetype": "text/x-python",
   "name": "python",
   "nbconvert_exporter": "python",
   "pygments_lexer": "ipython3",
   "version": "3.7.4"
  },
  "toc": {
   "base_numbering": 1,
   "nav_menu": {},
   "number_sections": true,
   "sideBar": true,
   "skip_h1_title": true,
   "title_cell": "Table of Contents",
   "title_sidebar": "Contents",
   "toc_cell": false,
   "toc_position": {},
   "toc_section_display": true,
   "toc_window_display": false
  }
 },
 "nbformat": 4,
 "nbformat_minor": 1
}
