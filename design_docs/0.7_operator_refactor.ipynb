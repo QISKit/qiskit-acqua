{
 "cells": [
  {
   "cell_type": "markdown",
   "metadata": {
    "slideshow": {
     "slide_type": "slide"
    }
   },
   "source": [
    "# Aqua 0.7 Operator Refactor\n",
    "_5-Dec-19, donny@, ..._"
   ]
  },
  {
   "cell_type": "markdown",
   "metadata": {
    "slideshow": {
     "slide_type": "slide"
    }
   },
   "source": [
    "## Purpose\n",
    "To improve the transparency and ease of understanding of Qiskit’s operator logic and algorithmic usage. Specifically, to reconcile with the Terra operator hierarchy and make the ExpectationValue and Evolution algorithms more visible, explicit, and extensible."
   ]
  },
  {
   "cell_type": "markdown",
   "metadata": {
    "slideshow": {
     "slide_type": "slide"
    }
   },
   "source": [
    "## Background: Motivation and Opportunities\n",
    "The representation of matrices sparsely as linear combinations of Pauli operators is critical in many quantum algorithms. As such, the Operator classes are the workhorses of Aqua today (0.6.2), containing both the expectation value and evolution logic used by most of its algorithms.\n",
    "\n",
    "However, there are several opportunities for improvement:\n",
    "* **Basic Construction & Rapid Protoyping:** Aqua's Operators were initially built as procedural infrastructure rather than first-class programming primitives. Improvements to syntax and interfaces can enable the succinctness and power typical of mathematical Operator language\n",
    "* **Separation of Operator Math and Operator Algorithms**\n",
    "    * Ease of understanding: The \"Operator algorithm\" logic - the ExpectationValue, Evolution, grouping, and symmetry analysis - is mostly spread across the 3000-line operator hierarchy, and is very branchy for different modes of execution\n",
    "    * Ease of extension: Modification to the expectation value, evolution, grouping, and symmetry logic is a core use case (e.g. the [CVaR expectation](https://arxiv.org/abs/1907.04769), [linear combination evolution](https://arxiv.org/abs/1202.5822), or the many recent papers on [Pauli grouping](https://www.nature.com/articles/nature23879)), but not explicitly supported today\n",
    "* **Smooth Borders with Broader Qiskit**\n",
    "    * Terra's `quantum_info` module also supports operator math, but is fully matrix-based\n",
    "    * WeightedPauli's ExpectationValue logic may be better housed under Ignis's tomography\n",
    "    * **Remote Operator Algorithms:** Aer's fast ExpectationValue is not transparently or cleanly interchangeable with Aqua's local ExpectationValue today. The concept of an Algorithm not provided by Aqua is not yet defined to support this type of interchangeability cleanly"
   ]
  },
  {
   "cell_type": "markdown",
   "metadata": {
    "slideshow": {
     "slide_type": "slide"
    }
   },
   "source": [
    "### Present State of Operators in Qiskit\n",
    "\n",
    "Both Aqua and Terra include suites of modules to support Operator math, but do so very differently.\n",
    "\n",
    "* Aqua\n",
    "    * Operators are focused primarily on the procedural requirements of algorithmic execution\n",
    "        * Modules are very large and include hundreds of lines of procedural algorithm code\n",
    "        * Interfaces were not initial built for end-user usage as a programming primitive, and are therefore wordy and difficult for users to understand\n",
    "        * Syntax is not built for rapid prototyping and lacks syntactic power of mathematical Operator language\n",
    "    * Primarily focused on Pauli-basis Operators\n",
    "        * WeightedPauli - $2^n\\times 2^n$ Operators sparsely represented as complex combination of Paulis\n",
    "        * MatrixOperator in the standard basis with $2^n\\times 2^n$ elements was initially built for performance improvements which are no longer relevant\n",
    "    * Only dependency on Terra is through Pauli module, but this is largely symbolic (not an inexorable component)\n",
    "* Terra\n",
    "    * Operator math is mostly built around QCVV and open Quantum systems modelling use cases\n",
    "        * Support for Channel, Choi, Superoperator, Kraus, etc.\n",
    "    * Operators are largely matrix-based and therefore do not support the Pauli-basis operations necessary to non-exponentially execute quantum algorithms\n",
    "    * Used by: \n",
    "        * Aqua, 29 dependencies - Only Pauli module\n",
    "        * Aer, 10 dependencies\n",
    "        * Ignis, 2 dependencies"
   ]
  },
  {
   "cell_type": "markdown",
   "metadata": {
    "slideshow": {
     "slide_type": "slide"
    }
   },
   "source": [
    "### Aqua Present Usage (0.6.2)\n",
    "\n",
    "Within Aqua, the primary uses of Operators are:\n",
    "* Qubit Observable (Hamiltonian, Cost Function, etc.) Construction\n",
    "    * Used as sparse representations of large observables when constructing problems in Chemistry, Physics, Optimization, and Finance today\n",
    "    * Also often a translation step between domain-specific problems and Quantum hardware-addressable equivalents\n",
    "* ExpectationValues\n",
    "    * Primarily used in VQE (and derivatives) as a device-executable cost function of the ansatz state\n",
    "    * Also present in the \"Evolution of Hamiltonian\" algorithm, which is simply state evolution by one operator followed by an expectation value by another operator\n",
    "    * Expectation values can only be taken of Operators in the Puali basis on Quantum hardware\n",
    "* State Evolution\n",
    "    * Used in QPE (and derivatives AE, HHL, iQPE, etc.) as a Quantum circuit-representable matrix exponentiation\n",
    "    * Used in UCCSD and QAOA ansatze and EOH algorithm as representation of system dynamics to simulate time evolution of a system on quantum hardware\n",
    "    * Evolution can only be taken by Operators in the Puali basis on Quantum hardware"
   ]
  },
  {
   "cell_type": "markdown",
   "metadata": {
    "slideshow": {
     "slide_type": "slide"
    }
   },
   "source": [
    "### Aqua Present (0.6.2) Operator Object Model and Hierarchy\n",
    "\n",
    "Aqua's Operators are organized as follows:\n",
    "* `qiskit.aqua.operators`\n",
    "    * base_operator.py: `BaseOperator(ABC)`\n",
    "    * matrix_operator.py: `MatrixOperator(BaseOperator)`\n",
    "    * weighted_pauli_operator.py: `WeightedPauliOperator(BaseOperator)`, __and__ `Z2Symmetries`\n",
    "    * tpb_grouped_weighted_pauli_operator.py: `TPBGroupedWeightedPauliOperator(WeightedPauliOperator)`, essentially a wrapper around `WeightedPauliOperator` for backward compatibility.\n",
    "    * pauli_graph: `PauliGraph`\n",
    "    * op_converter.py: `to_weighted_pauli_operator(operator)`, `to_matrix_operator(operator)`, `to_tpb_grouped_weighted_pauli_operator(operator, grouping_func, **kwargs)`\n",
    "    * common.py: Utility functions, inc. `evolution_instruction`, `pauli_measurement(circuit, pauli, qr, cr, barrier=False)`, `measure_pauli_z(data, pauli)`, `covariance(data, pauli_1, pauli_2, avg_1, avg_2)`, etc.\n",
    "* `qiskit.chemistry` __OUT OF SCOPE OF THIS DESIGN DOC__\n",
    "    * fermionic_operator.py: `FermionicOperator`, contains `jordan_wigner`, `parity`, `bravyi_kitaev` Fermion-to-qubit operator mappings.\n",
    "    * bksf.py: Another mapping\n",
    "    * `.core`\n",
    "        * chemistry_operator.py: `ChemistryOperator(ABC)`\n",
    "        * hamiltonian.py: `Hamiltonian(ChemistryOperator)`\n",
    "\n",
    "_Although many modules in optimization and finance construct Ising Hamiltonians as cost function observables, there is no Ising module._"
   ]
  },
  {
   "cell_type": "markdown",
   "metadata": {
    "slideshow": {
     "slide_type": "slide"
    }
   },
   "source": [
    "### Terra Present (0.11.0) Operator Object Model and Hierarchy\n",
    "\n",
    "Terra's Operators are organized as follows:\n",
    "* `qiskit.quantum_info`\n",
    "    * `.operators`\n",
    "        * base_operator.py, pauli.py, operator.py (matrix operator), measures.py (`process_fidelity`), predicates.py (`is_unitary_matrix`, `is_hermitian_matrix`, `matrix_equal`, etc.), quaternion.py\n",
    "        * `.channel`\n",
    "            * quantum_channel.py (base), chi.py, choi.py, kraus.py, ptm.py, stinespring.py, superop.py, transformations.py\n",
    "    * `.states`\n",
    "        * quantum_state.py (base), densitymatrix.py, statevector.py, measures.py (`state_fidelity`), states.py (`basis_state`, `projector`, `purity`)\n",
    "    * `.analysis`\n",
    "        * average.py - ExpectationValue of diagonal operator\n",
    "        * make_observable.py - Convert an observable in matrix form to dictionary form"
   ]
  },
  {
   "cell_type": "markdown",
   "metadata": {},
   "source": [
    "## Requirements and Design"
   ]
  },
  {
   "cell_type": "markdown",
   "metadata": {},
   "source": [
    "### Construction and Manipulation"
   ]
  },
  {
   "cell_type": "code",
   "execution_count": 3,
   "metadata": {
    "ExecuteTime": {
     "end_time": "2020-01-02T19:47:22.184444Z",
     "start_time": "2020-01-02T19:47:22.181268Z"
    }
   },
   "outputs": [],
   "source": [
    "# from qiskit.quantum_info.operators import WeightedPauliOperator\n",
    "from qiskit.aqua.operators import WeightedPauliOperator, MatrixOperator, op_converter\n",
    "from qiskit.quantum_info.operators import Pauli"
   ]
  },
  {
   "cell_type": "markdown",
   "metadata": {
    "slideshow": {
     "slide_type": "slide"
    }
   },
   "source": [
    "#### Present State\n",
    "\n",
    "Today, Qiskit supports several methods of WeightedPauli operator construction:"
   ]
  },
  {
   "cell_type": "code",
   "execution_count": 4,
   "metadata": {
    "ExecuteTime": {
     "end_time": "2020-01-02T19:47:23.488767Z",
     "start_time": "2020-01-02T19:47:23.485059Z"
    }
   },
   "outputs": [],
   "source": [
    "pauli_op = WeightedPauliOperator([\n",
    "    [.5, Pauli.from_label('IX')],\n",
    "    [.2, Pauli.from_label('ZY')],\n",
    "    [.1j, Pauli.from_label('ZZ')],\n",
    "])"
   ]
  },
  {
   "cell_type": "code",
   "execution_count": 5,
   "metadata": {
    "ExecuteTime": {
     "end_time": "2020-01-02T19:47:24.277537Z",
     "start_time": "2020-01-02T19:47:24.273779Z"
    }
   },
   "outputs": [],
   "source": [
    "pauli_op = WeightedPauliOperator.from_list(\n",
    "    paulis=[Pauli.from_label('IX'),\n",
    "            Pauli.from_label('ZY'),\n",
    "            Pauli.from_label('ZZ')],\n",
    "    weights=[.5, .2, .1j])"
   ]
  },
  {
   "cell_type": "code",
   "execution_count": 6,
   "metadata": {
    "ExecuteTime": {
     "end_time": "2020-01-02T19:47:25.369049Z",
     "start_time": "2020-01-02T19:47:25.210110Z"
    }
   },
   "outputs": [
    {
     "data": {
      "text/plain": [
       "True"
      ]
     },
     "execution_count": 6,
     "metadata": {},
     "output_type": "execute_result"
    }
   ],
   "source": [
    "mat = [[0. +0.1j, 0.5-0.2j, 0. +0.j , 0. +0.j ],\n",
    "       [0.5+0.2j, 0. -0.1j, 0. +0.j , 0. +0.j ],\n",
    "       [0. +0.j , 0. +0.j , 0. -0.1j, 0.5+0.2j],\n",
    "       [0. +0.j , 0. +0.j , 0.5-0.2j, 0. +0.1j]]\n",
    "mat_op = MatrixOperator(mat)\n",
    "pauli_op_from_mat = op_converter.to_weighted_pauli_operator(mat_op)\n",
    "pauli_op == pauli_op_from_mat"
   ]
  },
  {
   "cell_type": "markdown",
   "metadata": {
    "slideshow": {
     "slide_type": "slide"
    }
   },
   "source": [
    "Classical matrices can be exported if the user already knows the Operator hierarchy somewhat well:"
   ]
  },
  {
   "cell_type": "code",
   "execution_count": 7,
   "metadata": {
    "ExecuteTime": {
     "end_time": "2020-01-02T19:48:03.232154Z",
     "start_time": "2020-01-02T19:48:03.223098Z"
    }
   },
   "outputs": [
    {
     "data": {
      "text/plain": [
       "array([[0. +0.1j, 0.5-0.2j, 0. +0.j , 0. +0.j ],\n",
       "       [0.5+0.2j, 0. -0.1j, 0. +0.j , 0. +0.j ],\n",
       "       [0. +0.j , 0. +0.j , 0. -0.1j, 0.5+0.2j],\n",
       "       [0. +0.j , 0. +0.j , 0.5-0.2j, 0. +0.1j]])"
      ]
     },
     "execution_count": 7,
     "metadata": {},
     "output_type": "execute_result"
    }
   ],
   "source": [
    "op_converter.to_matrix_operator(pauli_op).matrix.toarray()"
   ]
  },
  {
   "cell_type": "markdown",
   "metadata": {
    "slideshow": {
     "slide_type": "slide"
    }
   },
   "source": [
    "Addition, scalar multiplication, composition, and deep equality are available for _Operators of the same representation_. However, composition uses the `*` operator, while Terra's operators and Python use `@`. Printing defaults to "
   ]
  },
  {
   "cell_type": "code",
   "execution_count": 13,
   "metadata": {
    "ExecuteTime": {
     "end_time": "2020-01-02T19:53:55.013620Z",
     "start_time": "2020-01-02T19:53:55.009046Z"
    }
   },
   "outputs": [
    {
     "data": {
      "text/plain": [
       "True"
      ]
     },
     "execution_count": 13,
     "metadata": {},
     "output_type": "execute_result"
    }
   ],
   "source": [
    "3*pauli_op + .2j*pauli_op == (3+.2j)*pauli_op"
   ]
  },
  {
   "cell_type": "code",
   "execution_count": 33,
   "metadata": {
    "ExecuteTime": {
     "end_time": "2020-01-02T19:59:04.863490Z",
     "start_time": "2020-01-02T19:59:04.858997Z"
    }
   },
   "outputs": [
    {
     "name": "stdout",
     "output_type": "stream",
     "text": [
      "II\t(0.28+0j)\n",
      "ZZ\t0j\n",
      "ZY\t0j\n",
      "IX\t0j\n",
      "\n"
     ]
    }
   ],
   "source": [
    "print((pauli_op * pauli_op).print_details())"
   ]
  },
  {
   "cell_type": "code",
   "execution_count": 9,
   "metadata": {
    "ExecuteTime": {
     "end_time": "2020-01-02T19:51:30.040892Z",
     "start_time": "2020-01-02T19:51:30.011712Z"
    }
   },
   "outputs": [
    {
     "ename": "AttributeError",
     "evalue": "'MatrixOperator' object has no attribute 'simplify'",
     "output_type": "error",
     "traceback": [
      "\u001b[0;31m---------------------------------------------------------------------------\u001b[0m",
      "\u001b[0;31mAttributeError\u001b[0m                            Traceback (most recent call last)",
      "\u001b[0;32m<ipython-input-9-216ad804470c>\u001b[0m in \u001b[0;36m<module>\u001b[0;34m\u001b[0m\n\u001b[0;32m----> 1\u001b[0;31m \u001b[0mpauli_op\u001b[0m \u001b[0;34m==\u001b[0m \u001b[0mmat_op\u001b[0m\u001b[0;34m\u001b[0m\u001b[0;34m\u001b[0m\u001b[0m\n\u001b[0m",
      "\u001b[0;32m~/code/aqua/qiskit/aqua/operators/weighted_pauli_operator.py\u001b[0m in \u001b[0;36m__eq__\u001b[0;34m(self, other)\u001b[0m\n\u001b[1;32m    125\u001b[0m         \u001b[0;31m# need to clean up the zeros\u001b[0m\u001b[0;34m\u001b[0m\u001b[0;34m\u001b[0m\u001b[0;34m\u001b[0m\u001b[0m\n\u001b[1;32m    126\u001b[0m         \u001b[0mself\u001b[0m\u001b[0;34m.\u001b[0m\u001b[0msimplify\u001b[0m\u001b[0;34m(\u001b[0m\u001b[0;34m)\u001b[0m\u001b[0;34m\u001b[0m\u001b[0;34m\u001b[0m\u001b[0m\n\u001b[0;32m--> 127\u001b[0;31m         \u001b[0mother\u001b[0m\u001b[0;34m.\u001b[0m\u001b[0msimplify\u001b[0m\u001b[0;34m(\u001b[0m\u001b[0;34m)\u001b[0m\u001b[0;34m\u001b[0m\u001b[0;34m\u001b[0m\u001b[0m\n\u001b[0m\u001b[1;32m    128\u001b[0m         \u001b[0;32mif\u001b[0m \u001b[0mlen\u001b[0m\u001b[0;34m(\u001b[0m\u001b[0mself\u001b[0m\u001b[0;34m.\u001b[0m\u001b[0m_paulis\u001b[0m\u001b[0;34m)\u001b[0m \u001b[0;34m!=\u001b[0m \u001b[0mlen\u001b[0m\u001b[0;34m(\u001b[0m\u001b[0mother\u001b[0m\u001b[0;34m.\u001b[0m\u001b[0mpaulis\u001b[0m\u001b[0;34m)\u001b[0m\u001b[0;34m:\u001b[0m\u001b[0;34m\u001b[0m\u001b[0;34m\u001b[0m\u001b[0m\n\u001b[1;32m    129\u001b[0m             \u001b[0;32mreturn\u001b[0m \u001b[0;32mFalse\u001b[0m\u001b[0;34m\u001b[0m\u001b[0;34m\u001b[0m\u001b[0m\n",
      "\u001b[0;31mAttributeError\u001b[0m: 'MatrixOperator' object has no attribute 'simplify'"
     ]
    }
   ],
   "source": [
    "pauli_op == mat_op"
   ]
  },
  {
   "cell_type": "markdown",
   "metadata": {
    "slideshow": {
     "slide_type": "slide"
    }
   },
   "source": [
    "#### [P1] Mathematical Construction\n",
    "\n",
    "The above code lacks the mathematical structure or power of typical operator expressions, and lacks a self-explanatory relationship to the underlying Paulis used. As such, Qiskit should support the following (note that `^` is already implemented as the overload for kron product in Terra):"
   ]
  },
  {
   "cell_type": "code",
   "execution_count": 2,
   "metadata": {
    "ExecuteTime": {
     "end_time": "2019-12-26T21:18:57.848214Z",
     "start_time": "2019-12-26T21:18:54.063013Z"
    }
   },
   "outputs": [],
   "source": [
    "from qiskit.aqua.operators.pauli import X, Y, Z, I"
   ]
  },
  {
   "cell_type": "code",
   "execution_count": 9,
   "metadata": {
    "ExecuteTime": {
     "end_time": "2019-12-26T21:44:56.965368Z",
     "start_time": "2019-12-26T21:44:56.961373Z"
    }
   },
   "outputs": [
    {
     "data": {
      "text/plain": [
       "True"
      ]
     },
     "execution_count": 9,
     "metadata": {},
     "output_type": "execute_result"
    }
   ],
   "source": [
    "op_new = .5*(I^X) + .2*(Z^Y) + .1j*(Z^Z)\n",
    "op_new == pauli_op"
   ]
  },
  {
   "cell_type": "markdown",
   "metadata": {},
   "source": [
    "Note that to support the above, Pauli and WeightedPauli must support the following:\n",
    "* Tensor, sum, and scalar multiplication without converting to matrices\n",
    "* Operations which return Operators outside of the Pauli group\n",
    "* Deep equality evaluation between WeightedPauli operators\n",
    "* A default set of simple operator instances"
   ]
  },
  {
   "cell_type": "markdown",
   "metadata": {
    "slideshow": {
     "slide_type": "slide"
    }
   },
   "source": [
    "#### [P1] Operator Math Overloads, Richness and Consistency\n",
    "\n",
    "The following overload operations are desirable:\n",
    "* Operator composition using `@` overload, deprecate the `*` overload for composition\n",
    "* Power (`**3`), kronpower (`^3`)"
   ]
  },
  {
   "cell_type": "code",
   "execution_count": 34,
   "metadata": {
    "ExecuteTime": {
     "end_time": "2020-01-02T20:07:37.857560Z",
     "start_time": "2020-01-02T20:07:37.854325Z"
    }
   },
   "outputs": [
    {
     "data": {
      "text/plain": [
       "True"
      ]
     },
     "execution_count": 34,
     "metadata": {},
     "output_type": "execute_result"
    }
   ],
   "source": [
    "(pauli_op^2)**2 == (pauli_op^pauli_op)@(pauli_op^pauli_op)"
   ]
  },
  {
   "cell_type": "markdown",
   "metadata": {
    "slideshow": {
     "slide_type": "slide"
    }
   },
   "source": [
    "#### Other Usage Syntactic Sugar\n",
    "\n",
    "In addition, the following operations are desirable:\n",
    "* `to_matrix()` method to allow quick access to unscalable classical tools, e.g. numpy eigensolution\n",
    "* Trace, performed recursively through Paulis"
   ]
  },
  {
   "cell_type": "markdown",
   "metadata": {
    "slideshow": {
     "slide_type": "slide"
    }
   },
   "source": [
    "#### Future Work: Other Important Qubit Operator Bases, MixedOperator\n",
    "\n",
    "Operators can also be constructed as complex combinations of Cliffords, Clifford+Ts, Projectors, Stabilizers, QuantumCircuits, and ZX Hamiltonians. Qiskit should support these primitives to allow more powerful Operator compositions. Qiskit should consider supportting a MixedOperator, holding a complex combination of various types of operators."
   ]
  },
  {
   "cell_type": "markdown",
   "metadata": {
    "slideshow": {
     "slide_type": "slide"
    }
   },
   "source": [
    "#### Grouping"
   ]
  },
  {
   "cell_type": "code",
   "execution_count": null,
   "metadata": {},
   "outputs": [],
   "source": []
  },
  {
   "cell_type": "markdown",
   "metadata": {
    "slideshow": {
     "slide_type": "slide"
    }
   },
   "source": [
    "### ExpectationValue Algorithms"
   ]
  },
  {
   "cell_type": "markdown",
   "metadata": {
    "slideshow": {
     "slide_type": "slide"
    }
   },
   "source": [
    "#### Present State\n",
    "\n",
    "Aqua's ExpectationValue is not contained within a single function or module, but rather split into several functions without a clear interface or flow for user usage. This is due to structural constraints in Aqua which are no longer present, where the algorithm requiring the expectation value held the backend object and could run circuits, but the operator could not. We encourage the reader to scan lines [361-395 of Aqua 6.1 VQE’s](https://github.com/Qiskit/qiskit-aqua/blob/stable/qiskit/aqua/algorithms/adaptive/vqe/vqe.py#L361) ExpectationValue calculation to try to understand where and how the expectation is computed. We’ve been asked by numerous Aqua users to explain how this code works, and most do not attempt to use it on their own.\n",
    "\n",
    "The following is the shortest possible way to write an expectation value in Aqua. Note that it fundamentally requires the user to understand a certain execution flow, the correct functions to use to do this, and how those functions work with their execution mode. This takes a few hours to understand at least, often days. Further, there are no hints that tomography is being performed here, or matrix multiplication if the system chooses to do that instead."
   ]
  },
  {
   "cell_type": "code",
   "execution_count": 4,
   "metadata": {
    "ExecuteTime": {
     "end_time": "2019-12-26T21:34:45.903765Z",
     "start_time": "2019-12-26T21:34:45.899854Z"
    },
    "slideshow": {
     "slide_type": "skip"
    }
   },
   "outputs": [],
   "source": [
    "from qiskit.aqua.operators import WeightedPauliOperator\n",
    "from qiskit.aqua.components.variational_forms import RY\n",
    "from qiskit.quantum_info import Pauli\n",
    "from qiskit import BasicAer, execute, QuantumCircuit\n",
    "from qiskit.circuit import Parameter\n",
    "qasm_sim = BasicAer.get_backend('qasm_simulator')"
   ]
  },
  {
   "cell_type": "code",
   "execution_count": 2,
   "metadata": {
    "ExecuteTime": {
     "end_time": "2019-12-26T20:03:09.762509Z",
     "start_time": "2019-12-26T20:03:09.452240Z"
    }
   },
   "outputs": [
    {
     "data": {
      "text/plain": [
       "(0.5+0.005078125j)"
      ]
     },
     "execution_count": 2,
     "metadata": {},
     "output_type": "execute_result"
    }
   ],
   "source": [
    "op = WeightedPauliOperator([\n",
    "    [.5, Pauli.from_label('IX')],\n",
    "    [.2j, Pauli.from_label('ZY')],\n",
    "])\n",
    "circuit = QuantumCircuit(2)\n",
    "circuit.h([0,1])\n",
    "\n",
    "evaluation_circuits = op.construct_evaluation_circuit(wave_function=circuit, statevector_mode=False)\n",
    "result = execute(evaluation_circuits, qasm_sim).result()\n",
    "expect, std = op.evaluate_with_result(result=result, statevector_mode=False)\n",
    "expect"
   ]
  },
  {
   "cell_type": "markdown",
   "metadata": {},
   "source": [
    "### State Evolution Algorithms"
   ]
  },
  {
   "cell_type": "markdown",
   "metadata": {
    "slideshow": {
     "slide_type": "slide"
    }
   },
   "source": [
    "#### Present State\n",
    "\n",
    "Evolution is somewhat more succinct, but more difficult to navigate in code."
   ]
  },
  {
   "cell_type": "code",
   "execution_count": 4,
   "metadata": {
    "ExecuteTime": {
     "end_time": "2019-12-26T20:03:22.783242Z",
     "start_time": "2019-12-26T20:03:22.780397Z"
    },
    "slideshow": {
     "slide_type": "skip"
    }
   },
   "outputs": [],
   "source": [
    "from qiskit.circuit import Parameter"
   ]
  },
  {
   "cell_type": "code",
   "execution_count": 5,
   "metadata": {
    "ExecuteTime": {
     "end_time": "2019-12-26T20:03:23.794305Z",
     "start_time": "2019-12-26T20:03:23.775959Z"
    }
   },
   "outputs": [
    {
     "name": "stdout",
     "output_type": "stream",
     "text": [
      "        ┌─────────────────┐\n",
      "q_0: |0>┤0                ├\n",
      "        │  Evolution^1(θ) │\n",
      "q_1: |0>┤1                ├\n",
      "        └─────────────────┘\n",
      "Decomposed:\n"
     ]
    },
    {
     "data": {
      "text/html": [
       "<pre style=\"word-wrap: normal;white-space: pre;background: #fff0;line-height: 1.1;font-family: &quot;Courier New&quot;,Courier,monospace\">        ┌─────────────────────┐                       ┌──────────────────────┐┌──────────┐┌───────────┐┌──────────┐\n",
       "q_0: |0>┤ U3(pi/2,-pi/2,pi/2) ├──■─────────────────■──┤ U3(-pi/2,-pi/2,pi/2) ├┤ U2(0,pi) ├┤ U1(1.0*θ) ├┤ U2(0,pi) ├\n",
       "        └─────────────────────┘┌─┴─┐┌───────────┐┌─┴─┐└──────────────────────┘└──────────┘└───────────┘└──────────┘\n",
       "q_1: |0>───────────────────────┤ X ├┤ U1(0.4*θ) ├┤ X ├─────────────────────────────────────────────────────────────\n",
       "                               └───┘└───────────┘└───┘                                                             </pre>"
      ],
      "text/plain": [
       "<qiskit.visualization.text.TextDrawing at 0x1041ae210>"
      ]
     },
     "execution_count": 5,
     "metadata": {},
     "output_type": "execute_result"
    }
   ],
   "source": [
    "op = WeightedPauliOperator([\n",
    "    [.5, Pauli.from_label('IX')],\n",
    "    [.2, Pauli.from_label('ZY')],\n",
    "])\n",
    "circuit = QuantumCircuit(2)\n",
    "\n",
    "θ = Parameter('θ')\n",
    "instr = op.evolve_instruction(evo_time=θ)\n",
    "circuit.append(instr, [0,1])\n",
    "print(circuit.draw(fold=4000))\n",
    "print('Decomposed:')\n",
    "circuit.decompose().draw(fold=4000)"
   ]
  },
  {
   "cell_type": "markdown",
   "metadata": {},
   "source": [
    "# ⚰️⚰️⚰️⚰️⚰️⚰️ Graveyard ⚰️⚰️⚰️⚰️⚰️⚰️"
   ]
  },
  {
   "cell_type": "markdown",
   "metadata": {},
   "source": [
    "#### Tasks Not Possible Today\n",
    "\n",
    "* Explicitly using Aer's ExpectationValue, or explicitly disabling it\n",
    "* Modifying the ExpectationValue, Evolution, grouping, or symmetry code without copying a significant amount of code"
   ]
  },
  {
   "cell_type": "markdown",
   "metadata": {
    "slideshow": {
     "slide_type": "slide"
    }
   },
   "source": [
    "### WeightedPauliOperator Not Available in Terra\n",
    "\n",
    "Terra contains operator utilities in the `qiskit.quantum_info.operators` directory, focused primarily on the mathematical operations between matrix-represented operators of various types (e.g. Choi, Pauli, etc.). Terra's operators do not contain much of the Pauli-basis logic in Aqua today, and are not interoptable with Aqua's operator algorithms. As such, these utilities are only accessible to Aqua users."
   ]
  },
  {
   "cell_type": "markdown",
   "metadata": {
    "slideshow": {
     "slide_type": "slide"
    }
   },
   "source": [
    "### Ignis and Aer Logic Living in Aqua\n",
    "\n",
    "* Aqua's ExpectationValue relies on a form of tomography, which in principle should live within Ignis's tomography utilities.\n",
    "* Aer's ExpectationValue is a super-superuser feature today\n",
    "    * The interface (and existence) of the Aer-provided algorithm is not made obvious because there is no way to specify a non-Aqua-provided algorithm in Qiskit\n",
    "    * In Aqua, there is no simple way to specify which ExpectationValue algorithm the user wants. \n",
    "    * Aer's ExpectationValue is woven throughout the core operator code in a way that is branchy, inexorable, and difficult for users to understand and control."
   ]
  },
  {
   "cell_type": "markdown",
   "metadata": {
    "slideshow": {
     "slide_type": "slide"
    }
   },
   "source": [
    "## Core Requirements / Interface\n",
    "\n",
    "1. Broadly Available (Qiskit-wide) WeightedPauli Logic\n",
    "    1. Basic Construction and Usage\n",
    "    1. Interface, Variants, Organization\n",
    "        1. Option A: WeightedPauli class in Terra\n",
    "        1. Option B: WeightedUnitary class in Terra\n",
    "    1. Integration Testing\n",
    "1. ExpectationValue and Evolution algorithm hierarchies\n",
    "    1. Interface, Variants, Organization\n",
    "        1. Usage of Operator Abstractions within Aqua Algorithms\n",
    "        1. Usage of Operator Abstractions without Aqua Algorithms\n",
    "    1. ExpectationValue Reconciliation with Ignis tomography\n",
    "        1. Option A: Leave ExpectationValue in Aqua\n",
    "        1. Option B: Keep ExpectationValue algo in Aqua, move logic into Ignis\n",
    "        1. Option C: Move ExpectationValue algo into Ignis\n",
    "1. Aer ExpectationValue and Evolution\n",
    "    1. Option I: Leave AerExpectation in Aqua\n",
    "    1. Option II: Central Qiskit Algorithms base classes\n",
    "    1. Option III: Merge Aqua and Terra\n",
    "1. Smooth Borders with Applications Primitives - e.g. FermionicOperator\n",
    "    1. Move Operator Translation Into Application Stacks, Consistently"
   ]
  },
  {
   "cell_type": "markdown",
   "metadata": {
    "slideshow": {
     "slide_type": "slide"
    }
   },
   "source": [
    "### Broadly Available (Qiskit-wide) WeightedPauli Logic\n",
    "\n",
    "A **WeightedPauliOperator** is an n-qubit operator represented sparesely as a complex combination of n-qubit Pauli operators (tensor products of n single-qubit Paulis). All hermitian operators can be represented in this basis.\n",
    "\n",
    "Many quantum algorithms depend on this sparse representation of operators in the Pauli basis. Terra contains a suite of Matrix-represented operators within the quantum_info module, including rich logic for combining and manipulating various operator types, but does not include a WeightedPauli operator. \n",
    "* The Aqua operator does not need to replicate Terra's logic within MatrixOperator, and should instead rely on Terra for Matrix-based operator logic. \n",
    "* Aqua is the not the only place in Qiskit which requires WeightedPauli Operators. These are used across quantum information, and should be interoptable with the other existing Terra operators.\n",
    "\n",
    "**Requirement:** The mathematical (non-algorithmic) Operator logic in Aqua should be moved into Terra, and Aqua should use these as its core operator objects."
   ]
  },
  {
   "cell_type": "markdown",
   "metadata": {
    "slideshow": {
     "slide_type": "slide"
    }
   },
   "source": [
    "### Breaking out the ExpectationValue and Evolution to be explicit modules which can be interchanged and extended.\n",
    "\n",
    "Users want to easily find and understand ExpectationValue and Evolution logic, and understand the algorithmic variations available to them.\n",
    "\n",
    "..."
   ]
  },
  {
   "cell_type": "code",
   "execution_count": null,
   "metadata": {},
   "outputs": [],
   "source": [
    "from qiskit.aqua.algorithms import ExpectationValue, Evolution\n",
    "\n",
    "avg = ExpectationValue(operator, backend).run(circuit)\n",
    "instr = Evolution(operator, backend).instruction(param)"
   ]
  },
  {
   "cell_type": "markdown",
   "metadata": {
    "slideshow": {
     "slide_type": "slide"
    }
   },
   "source": [
    "### Terse and transparent Operator usage within the Aqua algorithms, characteristic of end-user usage of the same algorithms.\n",
    "\n",
    "..."
   ]
  },
  {
   "cell_type": "code",
   "execution_count": null,
   "metadata": {},
   "outputs": [],
   "source": [
    "class VQE(QuantumAlgorithm):\n",
    "    def __init__(self, operator, var_form, optimizer,\n",
    "                 initial_point=None, backend=backend, callback=None, ...):\n",
    "        ...\n",
    "        self._expectation_value = ExpectationValue(self._operator, self._backend)\n",
    "    \n",
    "    def _energy_evaluation(self, params):\n",
    "        circuits = self._var_form.construct_circuit(params)\n",
    "        energy, stdev = self._expectation_value.run(circuits)\n",
    "        return energy"
   ]
  },
  {
   "cell_type": "markdown",
   "metadata": {
    "slideshow": {
     "slide_type": "slide"
    }
   },
   "source": [
    "### Explicit modules for Aer's ExpectationValue and Evolution which can be swapped for Aqua's, and a framework for remote backends to provide RemoteAlgorithm modules without depending on Aqua. \n",
    "\n",
    "..."
   ]
  },
  {
   "cell_type": "code",
   "execution_count": null,
   "metadata": {},
   "outputs": [],
   "source": [
    "from qiskit.providers.aer import AerExpectationValue\n",
    "\n",
    "my_vqe = VQE()"
   ]
  },
  {
   "cell_type": "markdown",
   "metadata": {
    "slideshow": {
     "slide_type": "slide"
    }
   },
   "source": [
    "### Reconciling the implicit tomography in Aqua's expectation value with Ignis's tomography functionality to avoid code duplication and allow generic access to the functionality.\n",
    "\n",
    "..."
   ]
  },
  {
   "cell_type": "code",
   "execution_count": null,
   "metadata": {},
   "outputs": [],
   "source": []
  },
  {
   "cell_type": "markdown",
   "metadata": {
    "slideshow": {
     "slide_type": "slide"
    }
   },
   "source": [
    "### Clear and smooth borders with the Operator-related objects in Aqua, such as the FermionicOperator and Hamiltonian in Chemistry, and the proposed LadderOperator and OptimizationProblem.\n",
    "\n",
    "..."
   ]
  },
  {
   "cell_type": "code",
   "execution_count": null,
   "metadata": {},
   "outputs": [],
   "source": []
  },
  {
   "cell_type": "markdown",
   "metadata": {
    "slideshow": {
     "slide_type": "slide"
    }
   },
   "source": [
    "## Technical Design\n",
    "\n",
    "* Changes to Terra Operator Hierarchy\n",
    "* Aqua Algorithm Hierarchy\n",
    "    * Groups and Symmetries Options\n",
    "* Changes to Ignis\n",
    "* Qiskit Remote Algorithms\n",
    "* Aer ExpectationValue and Evolution\n",
    "* IBMQ or other backend RemoteAlgorithms"
   ]
  },
  {
   "cell_type": "markdown",
   "metadata": {
    "slideshow": {
     "slide_type": "slide"
    }
   },
   "source": [
    "### Changes to Terra Operator Hierarchy\n",
    "\n",
    "There are two options for the migration of the Operator mathematical logic into Terra's quantum_info:\n",
    "\n",
    "#### Option A: Move WeightedPauliOperator into quantum_info and refactor\n",
    "\n",
    "...\n",
    "\n",
    "#### Option B: Add Linear Combination functionality to Operator to allow for WeightedPauli, WeightedClifford, and Combinations\n",
    "\n",
    "* e.g. Pauli a + Pauli b = LinComb(a, b)\n",
    "* Circuit Operator?\n",
    "\n",
    "..."
   ]
  },
  {
   "cell_type": "markdown",
   "metadata": {
    "slideshow": {
     "slide_type": "slide"
    }
   },
   "source": [
    "..."
   ]
  },
  {
   "cell_type": "markdown",
   "metadata": {
    "slideshow": {
     "slide_type": "slide"
    }
   },
   "source": [
    "## Timeline and Gameplan\n",
    "\n",
    "..."
   ]
  },
  {
   "cell_type": "markdown",
   "metadata": {},
   "source": [
    "## Future Extension Opportunities"
   ]
  },
  {
   "cell_type": "code",
   "execution_count": null,
   "metadata": {},
   "outputs": [],
   "source": []
  }
 ],
 "metadata": {
  "celltoolbar": "Slideshow",
  "kernelspec": {
   "display_name": "code",
   "language": "python",
   "name": "code"
  },
  "language_info": {
   "codemirror_mode": {
    "name": "ipython",
    "version": 3
   },
   "file_extension": ".py",
   "mimetype": "text/x-python",
   "name": "python",
   "nbconvert_exporter": "python",
   "pygments_lexer": "ipython3",
   "version": "3.7.4"
  },
  "toc": {
   "base_numbering": 1,
   "nav_menu": {},
   "number_sections": true,
   "sideBar": true,
   "skip_h1_title": true,
   "title_cell": "Table of Contents",
   "title_sidebar": "Contents",
   "toc_cell": false,
   "toc_position": {},
   "toc_section_display": true,
   "toc_window_display": false
  }
 },
 "nbformat": 4,
 "nbformat_minor": 1
}
