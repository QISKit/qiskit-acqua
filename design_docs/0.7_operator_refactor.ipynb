{
 "cells": [
  {
   "cell_type": "markdown",
   "metadata": {
    "slideshow": {
     "slide_type": "slide"
    }
   },
   "source": [
    "# Aqua 0.7 Operator Refactor\n",
    "_5-Dec-19, donny@, ..._"
   ]
  },
  {
   "cell_type": "markdown",
   "metadata": {
    "slideshow": {
     "slide_type": "slide"
    }
   },
   "source": [
    "## Purpose\n",
    "To improve the transparency and ease of understanding of Qiskit’s operator logic and algorithmic usage. Specifically, to reconcile with the Terra operator hierarchy and make the ExpectationValue and Evolution algorithms more visible, explicit, and extensible."
   ]
  },
  {
   "cell_type": "markdown",
   "metadata": {
    "slideshow": {
     "slide_type": "slide"
    }
   },
   "source": [
    "## Present State (Aqua 6.1)\n",
    "The Operator is the workhorse of Aqua, containing both the expectation value and evolution logic used by most of the algorithms in Aqua. However this logic is spread across the operator, very branchy for different modes of execution, and not built for user modification to the expectation value or evolution logic.\n",
    "\n",
    "The ExpectationValue is not contained within a single function or module, but rather split into several functions without a clear interface or flow for user usage. This is due to structural constraints in Aqua which are no longer present, where the algorithms requiring the expectation value held the backend and could run circuits, but the operator could not. Presently, the code to take an expectation value in VQE is too long to paste here, but we encourage the user to read lines 361-395 of Aqua 6.1 VQE’s ExpectationValue calculation to try to understand where and how the expectation is computed. We’ve been asked by numerous Aqua users to explain how this code works, and most do not attempt to use it on their own.\n",
    "\n",
    "..."
   ]
  },
  {
   "cell_type": "markdown",
   "metadata": {
    "slideshow": {
     "slide_type": "slide"
    }
   },
   "source": [
    "### Vanilla Expectation Example\n",
    "\n",
    "The following is the shortest possible way to write an expectation value in Aqua. Note that it fundamentally requires the user to understand a certain execution flow, the correct functions to use to do this, and how those functions work with their execute mode. This takes a few hours to understand at least, often days. Further, there are no hints that tomography is being performed here, or matrix multiplication if the system chooses to do that instead."
   ]
  },
  {
   "cell_type": "code",
   "execution_count": 7,
   "metadata": {
    "ExecuteTime": {
     "end_time": "2019-12-06T09:23:01.941926Z",
     "start_time": "2019-12-06T09:23:01.830500Z"
    },
    "slideshow": {
     "slide_type": "skip"
    }
   },
   "outputs": [],
   "source": [
    "from qiskit.aqua.operators import WeightedPauliOperator\n",
    "from qiskit.aqua.components.variational_forms import RY\n",
    "from qiskit.quantum_info import Pauli\n",
    "from qiskit import BasicAer, execute, QuantumCircuit\n",
    "from qiskit.circuit import Parameter\n",
    "qasm_sim = BasicAer.get_backend('qasm_simulator')"
   ]
  },
  {
   "cell_type": "code",
   "execution_count": 2,
   "metadata": {
    "ExecuteTime": {
     "end_time": "2019-12-05T22:12:51.300830Z",
     "start_time": "2019-12-05T22:12:51.004799Z"
    }
   },
   "outputs": [
    {
     "data": {
      "text/plain": [
       "(-0.004687500000000001+0.5j)"
      ]
     },
     "execution_count": 2,
     "metadata": {},
     "output_type": "execute_result"
    }
   ],
   "source": [
    "op = WeightedPauliOperator([\n",
    "    [.5j, Pauli.from_label('IX')],\n",
    "    [.2, Pauli.from_label('ZY')],\n",
    "])\n",
    "circuit = QuantumCircuit(2)\n",
    "circuit.h([0,1])\n",
    "\n",
    "evaluation_circuits = op.construct_evaluation_circuit(wave_function=circuit, statevector_mode=False)\n",
    "result = execute(evaluation_circuits, qasm_sim).result()\n",
    "expect, std = op.evaluate_with_result(result=result, statevector_mode=False)\n",
    "expect"
   ]
  },
  {
   "cell_type": "markdown",
   "metadata": {
    "slideshow": {
     "slide_type": "slide"
    }
   },
   "source": [
    "### Vanilla Evolution Example\n",
    "\n",
    "..."
   ]
  },
  {
   "cell_type": "code",
   "execution_count": 5,
   "metadata": {
    "ExecuteTime": {
     "end_time": "2019-12-05T22:27:21.945130Z",
     "start_time": "2019-12-05T22:27:21.930468Z"
    }
   },
   "outputs": [
    {
     "data": {
      "text/html": [
       "<pre style=\"word-wrap: normal;white-space: pre;background: #fff0;line-height: 1.1;font-family: &quot;Courier New&quot;,Courier,monospace\">        ┌──────────┐┌─────────────────────┐                     ┌──────────────────────┐┌──────────┐┌───────┐┌──────────┐\n",
       "q_0: |0>┤ U2(0,pi) ├┤ U3(pi/2,-pi/2,pi/2) ├──■───────────────■──┤ U3(-pi/2,-pi/2,pi/2) ├┤ U2(0,pi) ├┤ U1(0) ├┤ U2(0,pi) ├\n",
       "        ├──────────┤└─────────────────────┘┌─┴─┐┌─────────┐┌─┴─┐└──────────────────────┘└──────────┘└───────┘└──────────┘\n",
       "q_1: |0>┤ U2(0,pi) ├───────────────────────┤ X ├┤ U1(0.2) ├┤ X ├─────────────────────────────────────────────────────────\n",
       "        └──────────┘                       └───┘└─────────┘└───┘                                                         </pre>"
      ],
      "text/plain": [
       "<qiskit.visualization.text.TextDrawing at 0x1a2b424750>"
      ]
     },
     "execution_count": 5,
     "metadata": {},
     "output_type": "execute_result"
    }
   ],
   "source": [
    "# θ = Parameter('θ')\n",
    "instr = op.evolve_instruction(evo_time=.5)\n",
    "circuit.append(instr, [0,1])\n",
    "circuit.decompose().draw(fold=2000)"
   ]
  },
  {
   "cell_type": "markdown",
   "metadata": {},
   "source": [
    "### Missing Functionality: Tasks Not Possible Today\n",
    "\n",
    "..."
   ]
  },
  {
   "cell_type": "markdown",
   "metadata": {},
   "source": [
    "### Overlaps with Terra and Ignis, and Code Organization Issues\n",
    "..."
   ]
  },
  {
   "cell_type": "markdown",
   "metadata": {
    "slideshow": {
     "slide_type": "slide"
    }
   },
   "source": [
    "## Core Requirements / Interface\n",
    "\n",
    "1. Reconciliation with Terra Operators\n",
    "1. ExpectationValue and Evolution algorithm hierarchies\n",
    "1. Usage of Operator Abstractions within the Aqua Algorithms\n",
    "1. Aer ExpectationValue and Evolution\n",
    "1. Reconciliation with Ignis Tomography\n",
    "1. Smooth Borders with Application Stack Primitives"
   ]
  },
  {
   "cell_type": "markdown",
   "metadata": {
    "slideshow": {
     "slide_type": "slide"
    }
   },
   "source": [
    "### Reconciling the Operator logic in Aqua with that of Terra. \n",
    "\n",
    "Terra contains a suite of Matrix-represented operators within the quantum_info module, including rich logic for combining and manipulating various operator types. The Aqua operator does not need to replicate this logic, and is the not the only place in Qiskit which requires it for non-matrix representation (e.g. WeightedPauli) Operators. The mathematical logic in Aqua's operators should be moved into Terra, and Aqua should use these as its core operator objects.\n",
    "\n",
    "..."
   ]
  },
  {
   "cell_type": "code",
   "execution_count": null,
   "metadata": {
    "ExecuteTime": {
     "end_time": "2019-12-05T22:49:32.350549Z",
     "start_time": "2019-12-05T22:49:32.209022Z"
    }
   },
   "outputs": [],
   "source": [
    "from qiskit.quantum_info import WeightedPauliOperator"
   ]
  },
  {
   "cell_type": "markdown",
   "metadata": {
    "slideshow": {
     "slide_type": "slide"
    }
   },
   "source": [
    "### Breaking out the ExpectationValue and Evolution to be explicit modules which can be interchanged and extended.\n",
    "\n",
    "Users want to easily find and understand ExpectationValue and Evolution logic, and understand the algorithmic variations available to them.\n",
    "\n",
    "..."
   ]
  },
  {
   "cell_type": "code",
   "execution_count": null,
   "metadata": {},
   "outputs": [],
   "source": [
    "from qiskit.aqua.algorithms import ExpectationValue, Evolution\n",
    "\n",
    "avg = ExpectationValue(operator, backend).run(circuit)\n",
    "instr = Evolution(operator, backend).instruction(param)"
   ]
  },
  {
   "cell_type": "markdown",
   "metadata": {
    "slideshow": {
     "slide_type": "slide"
    }
   },
   "source": [
    "### Terse and transparent Operator usage within the Aqua algorithms, characteristic of end-user usage of the same algorithms.\n",
    "\n",
    "..."
   ]
  },
  {
   "cell_type": "code",
   "execution_count": null,
   "metadata": {},
   "outputs": [],
   "source": [
    "class VQE(QuantumAlgorithm):\n",
    "    def __init__(self, operator, var_form, optimizer,\n",
    "                 initial_point=None, backend=backend, callback=None, ...):\n",
    "        ...\n",
    "        self._expectation_value = ExpectationValue(self._operator, self._backend)\n",
    "    \n",
    "    def _energy_evaluation(self, params):\n",
    "        circuits = self._var_form.construct_circuit(params)\n",
    "        energy, stdev = self._expectation_value.run(circuits)\n",
    "        return energy"
   ]
  },
  {
   "cell_type": "markdown",
   "metadata": {
    "slideshow": {
     "slide_type": "slide"
    }
   },
   "source": [
    "### Explicit modules for Aer's ExpectationValue and Evolution which can be swapped for Aqua's, and a framework for remote backends to provide RemoteAlgorithm modules without depending on Aqua. \n",
    "\n",
    "..."
   ]
  },
  {
   "cell_type": "code",
   "execution_count": null,
   "metadata": {},
   "outputs": [],
   "source": [
    "from qiskit.providers.aer import AerExpectationValue\n",
    "\n",
    "my_vqe = VQE()"
   ]
  },
  {
   "cell_type": "markdown",
   "metadata": {
    "slideshow": {
     "slide_type": "slide"
    }
   },
   "source": [
    "### Reconciling the implicit tomography in Aqua's expectation value with Ignis's tomography functionality to avoid code duplication and allow generic access to the functionality.\n",
    "\n",
    "..."
   ]
  },
  {
   "cell_type": "code",
   "execution_count": null,
   "metadata": {},
   "outputs": [],
   "source": []
  },
  {
   "cell_type": "markdown",
   "metadata": {
    "slideshow": {
     "slide_type": "slide"
    }
   },
   "source": [
    "### Clear and smooth borders with the Operator-related objects in Aqua, such as the FermionicOperator and Hamiltonian in Chemistry, and the proposed LadderOperator and OptimizationProblem.\n",
    "\n",
    "..."
   ]
  },
  {
   "cell_type": "code",
   "execution_count": null,
   "metadata": {},
   "outputs": [],
   "source": []
  },
  {
   "cell_type": "markdown",
   "metadata": {
    "slideshow": {
     "slide_type": "slide"
    }
   },
   "source": [
    "## Technical Design\n",
    "\n",
    "* Changes to Terra Operator Hierarchy\n",
    "* Aqua Algorithm Hierarchy\n",
    "    * Groups and Symmetries Options\n",
    "* Changes to Ignis\n",
    "* Qiskit Remote Algorithms\n",
    "* Aer ExpectationValue and Evolution\n",
    "* IBMQ or other backend RemoteAlgorithms"
   ]
  },
  {
   "cell_type": "markdown",
   "metadata": {
    "slideshow": {
     "slide_type": "slide"
    }
   },
   "source": [
    "### Changes to Terra Operator Hierarchy\n",
    "\n",
    "There are two options for the migration of the Operator mathematical logic into Terra's quantum_info:\n",
    "\n",
    "#### Option A: Move WeightedPauliOperator into quantum_info and refactor\n",
    "\n",
    "...\n",
    "\n",
    "#### Option B: Add Linear Combination functionality to Operator to allow for WeightedPauli, WeightedClifford, and Combinations\n",
    "\n",
    "* e.g. Pauli a + Pauli b = LinComb(a, b)\n",
    "* Circuit Operator?\n",
    "\n",
    "..."
   ]
  },
  {
   "cell_type": "markdown",
   "metadata": {
    "slideshow": {
     "slide_type": "slide"
    }
   },
   "source": [
    "..."
   ]
  },
  {
   "cell_type": "markdown",
   "metadata": {
    "slideshow": {
     "slide_type": "slide"
    }
   },
   "source": [
    "## Timeline and Gameplan\n",
    "\n",
    "..."
   ]
  },
  {
   "cell_type": "markdown",
   "metadata": {},
   "source": [
    "## Future Extension Opportunities"
   ]
  },
  {
   "cell_type": "code",
   "execution_count": null,
   "metadata": {},
   "outputs": [],
   "source": []
  }
 ],
 "metadata": {
  "celltoolbar": "Slideshow",
  "kernelspec": {
   "display_name": "code",
   "language": "python",
   "name": "code"
  },
  "language_info": {
   "codemirror_mode": {
    "name": "ipython",
    "version": 3
   },
   "file_extension": ".py",
   "mimetype": "text/x-python",
   "name": "python",
   "nbconvert_exporter": "python",
   "pygments_lexer": "ipython3",
   "version": "3.7.4"
  },
  "toc": {
   "base_numbering": 1,
   "nav_menu": {},
   "number_sections": true,
   "sideBar": true,
   "skip_h1_title": true,
   "title_cell": "Table of Contents",
   "title_sidebar": "Contents",
   "toc_cell": false,
   "toc_position": {},
   "toc_section_display": true,
   "toc_window_display": false
  }
 },
 "nbformat": 4,
 "nbformat_minor": 1
}
