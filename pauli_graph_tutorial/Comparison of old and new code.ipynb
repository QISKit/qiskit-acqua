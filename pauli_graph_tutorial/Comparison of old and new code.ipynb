{
 "cells": [
  {
   "cell_type": "code",
   "execution_count": 1,
   "metadata": {},
   "outputs": [],
   "source": [
    "from qiskit.quantum_info.operators import Pauli\n",
    "from qiskit.aqua.operators import PauliGraph, PauliGraphNew\n",
    "import numpy as np\n",
    "import csv"
   ]
  },
  {
   "cell_type": "code",
   "execution_count": 4,
   "metadata": {},
   "outputs": [],
   "source": [
    "n = [4,8] # We test for 4 qubit and 8 qubit Hamiltonians\n",
    "sample_size = 50 # For each qubit case, we run 50 tests and take the average\n",
    "E = [100,1000] # Our test involves Hamiltonians with 100 Pauli string elements out of the 256 complete set for a \n",
    "               # 4 qubit case and 1000 elements out of the 4^8 complete set for 8 qubit Hamiltonian\n",
    "    \n",
    "pauli_m = ['I','X','Y','Z'] \n",
    "\n",
    "for N in n:\n",
    "    g1_num = []\n",
    "    g2_num = []\n",
    "    for l in range(sample_size):\n",
    "        pauli_lt = []\n",
    "        k = 0\n",
    "        while k < E[n.index(N)]: # Here we generate the elements for Hamiltonians randomly\n",
    "            s = ''\n",
    "            for j in range(N):\n",
    "                s = s + np.random.choice(pauli_m)\n",
    "            if s not in pauli_lt:\n",
    "                pauli_lt.append(s)\n",
    "                s = ''\n",
    "                k += 1\n",
    "        parsed_lt = list(map(lambda x: [1, Pauli(label=x)],pauli_lt)) # Form the list of Pauli string elements\n",
    "        g1_num.append(len(PauliGraph(parsed_lt).graph)) # For each sample, the number of groups in old code is appended\n",
    "        g2_num.append(len(PauliGraphNew(parsed_lt).graph)) # Likewise for the new code\n",
    "\n",
    "    with open('results.csv', mode='a') as res_file: # Export average out to .csv file\n",
    "        res_writer = csv.writer(res_file, delimiter=',', quotechar='\"', quoting=csv.QUOTE_MINIMAL)\n",
    "        res_writer.writerow([sum(g1_num)/len(g1_num), sum(g2_num)/len(g2_num)])"
   ]
  }
 ],
 "metadata": {
  "kernelspec": {
   "display_name": "Python 3",
   "language": "python",
   "name": "python3"
  },
  "language_info": {
   "codemirror_mode": {
    "name": "ipython",
    "version": 3
   },
   "file_extension": ".py",
   "mimetype": "text/x-python",
   "name": "python",
   "nbconvert_exporter": "python",
   "pygments_lexer": "ipython3",
   "version": "3.7.4"
  }
 },
 "nbformat": 4,
 "nbformat_minor": 2
}
